{
 "cells": [
  {
   "cell_type": "code",
   "execution_count": 6,
   "id": "c9e492f1-cc38-48b3-8659-b9fa50ee5254",
   "metadata": {},
   "outputs": [],
   "source": [
    "\n",
    "import scanpy as sc\n",
    "import anndata\n",
    "import matplotlib.pyplot as plt\n",
    "from matplotlib.pyplot import rc_context\n",
    "sc.set_figure_params(figsize=(4, 4))\n",
    "import pandas as pd\n",
    "import numpy as np"
   ]
  },
  {
   "cell_type": "code",
   "execution_count": 7,
   "id": "6753cf31",
   "metadata": {},
   "outputs": [],
   "source": [
    "import seaborn as sns"
   ]
  },
  {
   "cell_type": "code",
   "execution_count": 4,
   "id": "e8ffa7f9",
   "metadata": {},
   "outputs": [],
   "source": [
    "demux_data = pd.read_csv(\"../../hypoxia/demux_fastqs/demultipexing_stats.tsv\", sep = \"\\t\")\n"
   ]
  },
  {
   "cell_type": "code",
   "execution_count": 9,
   "id": "73ca4fd3",
   "metadata": {},
   "outputs": [
    {
     "data": {
      "text/html": [
       "<div>\n",
       "<style scoped>\n",
       "    .dataframe tbody tr th:only-of-type {\n",
       "        vertical-align: middle;\n",
       "    }\n",
       "\n",
       "    .dataframe tbody tr th {\n",
       "        vertical-align: top;\n",
       "    }\n",
       "\n",
       "    .dataframe thead th {\n",
       "        text-align: right;\n",
       "    }\n",
       "</style>\n",
       "<table border=\"1\" class=\"dataframe\">\n",
       "  <thead>\n",
       "    <tr style=\"text-align: right;\">\n",
       "      <th></th>\n",
       "      <th>sample_name</th>\n",
       "      <th>written_reads</th>\n",
       "    </tr>\n",
       "  </thead>\n",
       "  <tbody>\n",
       "    <tr>\n",
       "      <th>8</th>\n",
       "      <td>10739</td>\n",
       "      <td>4000012</td>\n",
       "    </tr>\n",
       "    <tr>\n",
       "      <th>85</th>\n",
       "      <td>SOD139B_1</td>\n",
       "      <td>4254140</td>\n",
       "    </tr>\n",
       "    <tr>\n",
       "      <th>81</th>\n",
       "      <td>2DDGiALS</td>\n",
       "      <td>4460672</td>\n",
       "    </tr>\n",
       "    <tr>\n",
       "      <th>66</th>\n",
       "      <td>6GHCiALS</td>\n",
       "      <td>4533343</td>\n",
       "    </tr>\n",
       "    <tr>\n",
       "      <th>94</th>\n",
       "      <td>ES</td>\n",
       "      <td>4550792</td>\n",
       "    </tr>\n",
       "    <tr>\n",
       "      <th>...</th>\n",
       "      <td>...</td>\n",
       "      <td>...</td>\n",
       "    </tr>\n",
       "    <tr>\n",
       "      <th>43</th>\n",
       "      <td>HPAC</td>\n",
       "      <td>22426483</td>\n",
       "    </tr>\n",
       "    <tr>\n",
       "      <th>25</th>\n",
       "      <td>9711</td>\n",
       "      <td>22755010</td>\n",
       "    </tr>\n",
       "    <tr>\n",
       "      <th>30</th>\n",
       "      <td>Panc1</td>\n",
       "      <td>27937226</td>\n",
       "    </tr>\n",
       "    <tr>\n",
       "      <th>24</th>\n",
       "      <td>SW620</td>\n",
       "      <td>34908299</td>\n",
       "    </tr>\n",
       "    <tr>\n",
       "      <th>7</th>\n",
       "      <td>undetermined</td>\n",
       "      <td>196783003</td>\n",
       "    </tr>\n",
       "  </tbody>\n",
       "</table>\n",
       "<p>95 rows × 2 columns</p>\n",
       "</div>"
      ],
      "text/plain": [
       "     sample_name  written_reads\n",
       "8          10739        4000012\n",
       "85     SOD139B_1        4254140\n",
       "81      2DDGiALS        4460672\n",
       "66      6GHCiALS        4533343\n",
       "94            ES        4550792\n",
       "..           ...            ...\n",
       "43          HPAC       22426483\n",
       "25          9711       22755010\n",
       "30         Panc1       27937226\n",
       "24         SW620       34908299\n",
       "7   undetermined      196783003\n",
       "\n",
       "[95 rows x 2 columns]"
      ]
     },
     "execution_count": 9,
     "metadata": {},
     "output_type": "execute_result"
    }
   ],
   "source": [
    "demux_data.sort_values('written_reads')"
   ]
  },
  {
   "cell_type": "code",
   "execution_count": 14,
   "id": "bd8a8547",
   "metadata": {},
   "outputs": [
    {
     "data": {
      "text/plain": [
       "83.61063322291426"
      ]
     },
     "execution_count": 14,
     "metadata": {},
     "output_type": "execute_result"
    }
   ],
   "source": [
    "np.sum(demux_data[demux_data[\"sample_name\"] != \"undetermined\"][\"written_reads\"]) / np.sum(demux_data[\"written_reads\"]) * 100"
   ]
  },
  {
   "cell_type": "code",
   "execution_count": 8,
   "id": "6c6d8d29",
   "metadata": {},
   "outputs": [
    {
     "data": {
      "text/plain": [
       "<Axes: xlabel='written_reads', ylabel='Count'>"
      ]
     },
     "execution_count": 8,
     "metadata": {},
     "output_type": "execute_result"
    },
    {
     "data": {
      "image/png": "[encoded data removed]",
      "text/plain": [
       "<Figure size 320x320 with 1 Axes>"
      ]
     },
     "metadata": {
      "image/png": {
       "height": 300,
       "width": 312
      }
     },
     "output_type": "display_data"
    }
   ],
   "source": [
    "sns.histplot(demux_data.iloc[:,1])"
   ]
  },
  {
   "cell_type": "code",
   "execution_count": 2,
   "id": "17d903aa-ac5c-41ae-9692-f8b9c831a9a9",
   "metadata": {},
   "outputs": [],
   "source": [
    "all_matrices = sc.read_h5ad('final_preumap_matrix.h5ad')"
   ]
  },
  {
   "cell_type": "code",
   "execution_count": null,
   "id": "f8739e92-aa49-463e-a865-d37bdebdff30",
   "metadata": {},
   "outputs": [],
   "source": [
    "sc.pp.neighbors(all_matrices, use_rep='X')\n",
    "sc.tl.umap(all_matrices, min_dist=0.3)"
   ]
  },
  {
   "cell_type": "code",
   "execution_count": null,
   "id": "b08f3a64-9626-4845-995b-acfb9017c299",
   "metadata": {},
   "outputs": [],
   "source": [
    "sc.tl.leiden(all_matrices, resolution=0.8)"
   ]
  },
  {
   "cell_type": "code",
   "execution_count": null,
   "id": "f1ce94a2-d39b-490d-9ef4-773e678f84a3",
   "metadata": {},
   "outputs": [],
   "source": [
    "with rc_context({'figure.figsize': (8, 8)}):\n",
    "    sc.pl.umap(\n",
    "    all_matrices,\n",
    "    color=[\"sample\", \"leiden\"], ncols=2, layer='logged', size=10,\n",
    "    frameon=False, )"
   ]
  },
  {
   "cell_type": "code",
   "execution_count": 1,
   "id": "d277aec0",
   "metadata": {},
   "outputs": [],
   "source": [
    "import pandas as pd"
   ]
  },
  {
   "cell_type": "code",
   "execution_count": 2,
   "id": "64b26e7c",
   "metadata": {},
   "outputs": [],
   "source": [
    "sizes = pd.read_csv(\"../size.txt\")"
   ]
  },
  {
   "cell_type": "code",
   "execution_count": 6,
   "id": "9a2ff5e1",
   "metadata": {},
   "outputs": [
    {
     "data": {
      "text/plain": [
       "336371.5894736842"
      ]
     },
     "execution_count": 6,
     "metadata": {},
     "output_type": "execute_result"
    }
   ],
   "source": [
    "np.mean(sizes)"
   ]
  },
  {
   "cell_type": "code",
   "execution_count": 5,
   "id": "3281ce9d",
   "metadata": {},
   "outputs": [],
   "source": [
    "import numpy as np d"
   ]
  },
  {
   "cell_type": "code",
   "execution_count": null,
   "id": "61c818f4",
   "metadata": {},
   "outputs": [],
   "source": []
  }
 ],
 "metadata": {
  "kernelspec": {
   "display_name": "new-env",
   "language": "python",
   "name": "new-env"
  },
  "language_info": {
   "codemirror_mode": {
    "name": "ipython",
    "version": 3
   },
   "file_extension": ".py",
   "mimetype": "text/x-python",
   "name": "python",
   "nbconvert_exporter": "python",
   "pygments_lexer": "ipython3",
   "version": "3.10.12"
  }
 },
 "nbformat": 4,
 "nbformat_minor": 5
}
